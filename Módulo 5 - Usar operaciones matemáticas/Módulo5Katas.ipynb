{
 "cells": [
  {
   "cell_type": "markdown",
   "metadata": {},
   "source": [
    "# Kata Módulo 5\n",
    "### Jazmin Tolentino, Febrero 2022."
   ]
  },
  {
   "cell_type": "markdown",
   "metadata": {},
   "source": [
    "## Ejercicio 1 - Utilizar operadores aritméticos\n",
    "Calcular la distancia entre dos planetas"
   ]
  },
  {
   "cell_type": "code",
   "execution_count": 8,
   "metadata": {},
   "outputs": [],
   "source": [
    "# Crear variables para almacenar dos distancias\n",
    "planeta1 = 149597870 # Distancia en km\n",
    "planeta2 = 778547200 # Distancia en km"
   ]
  },
  {
   "cell_type": "code",
   "execution_count": 10,
   "metadata": {},
   "outputs": [
    {
     "name": "stdout",
     "output_type": "stream",
     "text": [
      "La distancia en km es: 628949330\n",
      "La distancia en millas es: 390577533.93\n"
     ]
    }
   ],
   "source": [
    "# Calcular la distancia restar el segundo del primero\n",
    "distancia = planeta2 - planeta1\n",
    "print(f'La distancia en km es: {distancia}')\n",
    "distanciaMillas = distancia * 0.621\n",
    "print(f'La distancia en millas es: {distanciaMillas}')"
   ]
  },
  {
   "cell_type": "markdown",
   "metadata": {},
   "source": [
    "### Ejercicio 2"
   ]
  },
  {
   "cell_type": "code",
   "execution_count": 11,
   "metadata": {},
   "outputs": [],
   "source": [
    "# Pedir los datos al usuario\n",
    "nombrePlaneta1 = input('Ingresa el nombre del primer planeta: ')\n",
    "planeta1 = input(f'Ingresa la distancia de {nombrePlaneta1} en km')\n",
    "\n",
    "nombrePlaneta2 = input('Ingresa el nombre del segundo planeta: ')\n",
    "planeta2 = input(f'Ingresa la distancia de {nombrePlaneta2} en km')\n"
   ]
  },
  {
   "cell_type": "code",
   "execution_count": 12,
   "metadata": {},
   "outputs": [],
   "source": [
    "# Convierte las cadenas de ambos planetas a números enteros\n",
    "dPlaneta1 = int(planeta1)\n",
    "dPlaneta2 = int(planeta2)"
   ]
  },
  {
   "cell_type": "code",
   "execution_count": 14,
   "metadata": {},
   "outputs": [
    {
     "name": "stdout",
     "output_type": "stream",
     "text": [
      "50300000\n",
      "50300000\n"
     ]
    }
   ],
   "source": [
    "# Realizar el cálculo y determinar el valor absoluto\n",
    "distancia = dPlaneta2 - dPlaneta1\n",
    "print(distancia)\n",
    "distanciaAbs = abs(distancia)\n",
    "print(distancia)"
   ]
  },
  {
   "cell_type": "code",
   "execution_count": 15,
   "metadata": {},
   "outputs": [
    {
     "name": "stdout",
     "output_type": "stream",
     "text": [
      "La distancia en millas de Mercurio y Venus es: 31236300.0\n"
     ]
    }
   ],
   "source": [
    "#Convertir de km a millas\n",
    "distanciaMillas = distanciaAbs * 0.621\n",
    "print(f'La distancia en millas de {nombrePlaneta1} y {nombrePlaneta2} es: {distanciaMillas}')"
   ]
  }
 ],
 "metadata": {
  "interpreter": {
   "hash": "a0b3210725285faecfe5d85b616cd80890a4e9eeb8bc5c16936fafcc20973414"
  },
  "kernelspec": {
   "display_name": "Python 3.9.5 32-bit",
   "language": "python",
   "name": "python3"
  },
  "language_info": {
   "codemirror_mode": {
    "name": "ipython",
    "version": 3
   },
   "file_extension": ".py",
   "mimetype": "text/x-python",
   "name": "python",
   "nbconvert_exporter": "python",
   "pygments_lexer": "ipython3",
   "version": "3.9.5"
  },
  "orig_nbformat": 4
 },
 "nbformat": 4,
 "nbformat_minor": 2
}
