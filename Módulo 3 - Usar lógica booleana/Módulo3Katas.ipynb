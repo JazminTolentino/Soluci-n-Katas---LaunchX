{
 "cells": [
  {
   "cell_type": "markdown",
   "metadata": {},
   "source": [
    "# Kata Modulo 3\n",
    "### Jazmin Tolentino, Febrero 2022."
   ]
  },
  {
   "cell_type": "markdown",
   "metadata": {},
   "source": [
    "## Ejercicio - Escribir declaraciones if, else y elif"
   ]
  },
  {
   "cell_type": "code",
   "execution_count": 1,
   "metadata": {},
   "outputs": [
    {
     "name": "stdout",
     "output_type": "stream",
     "text": [
      "Un asteroide se acerca a la Tierra demasiado rápido\n"
     ]
    }
   ],
   "source": [
    "#Ejercicio 1\n",
    "\n",
    "velocidadAsteroide = 49\n",
    "if velocidadAsteroide > 25:\n",
    "    print(\"¡ALERTA! Un asteroide se acerca a la Tierra demasiado rápido\")\n",
    "else:\n",
    "    print(\"Todo bien por el momento\")"
   ]
  },
  {
   "cell_type": "code",
   "execution_count": 1,
   "metadata": {},
   "outputs": [
    {
     "name": "stdout",
     "output_type": "stream",
     "text": [
      "No hay ningún asteroide cerca.\n"
     ]
    }
   ],
   "source": [
    "#Ejercicio 2\n",
    "\n",
    "velocidadAsteroide2 = 19\n",
    "if velocidadAsteroide2 == 20:\n",
    "    print(\"Hay un asteroide acercandose a la tierra\")\n",
    "elif velocidadAsteroide2 > 20:\n",
    "    print(\"Mira el cielo, hay un asteroide\")\n",
    "else:\n",
    "    print(\"No hay ningún asteroide cerca.\")"
   ]
  },
  {
   "cell_type": "markdown",
   "metadata": {},
   "source": [
    "## Ejercicio: Uso de operadores AND y OR."
   ]
  },
  {
   "cell_type": "code",
   "execution_count": 2,
   "metadata": {},
   "outputs": [
    {
     "name": "stdout",
     "output_type": "stream",
     "text": [
      "Todo bien por el momento\n"
     ]
    }
   ],
   "source": [
    "#Ejercicio 3\n",
    "\n",
    "tamanioAsteroide = 25\n",
    "velocidadAsteroide3 = 19\n",
    "\n",
    "if tamanioAsteroide > 25 and velocidadAsteroide3 > 25:\n",
    "    print(\"¡ALERTA! Un asteroide golpeara a la Tierra\")\n",
    "elif velocidadAsteroide3 >= 20:\n",
    "    print(\"Mira el cielo y busca un asteroide\")\n",
    "elif tamanioAsteroide < 25:\n",
    "    print(\"Todo bien por el momento\")\n",
    "else:\n",
    "    print(\"Todo bien por el momento\")"
   ]
  }
 ],
 "metadata": {
  "interpreter": {
   "hash": "a0b3210725285faecfe5d85b616cd80890a4e9eeb8bc5c16936fafcc20973414"
  },
  "kernelspec": {
   "display_name": "Python 3.9.5 32-bit",
   "language": "python",
   "name": "python3"
  },
  "language_info": {
   "codemirror_mode": {
    "name": "ipython",
    "version": 3
   },
   "file_extension": ".py",
   "mimetype": "text/x-python",
   "name": "python",
   "nbconvert_exporter": "python",
   "pygments_lexer": "ipython3",
   "version": "3.9.5"
  },
  "orig_nbformat": 4
 },
 "nbformat": 4,
 "nbformat_minor": 2
}
