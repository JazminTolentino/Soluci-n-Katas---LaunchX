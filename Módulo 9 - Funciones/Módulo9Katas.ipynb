{
 "cells": [
  {
   "cell_type": "markdown",
   "metadata": {},
   "source": [
    "# Kata Módulo 9\n",
    "### Jazmin Tolentino, Febrero 2022."
   ]
  },
  {
   "cell_type": "markdown",
   "metadata": {},
   "source": [
    "## Ejercicio 1: Uso de funciones en Python\n",
    "### Ejercicio 1: Trabajar con argumentos en funciones"
   ]
  },
  {
   "cell_type": "code",
   "execution_count": 2,
   "metadata": {},
   "outputs": [],
   "source": [
    "# Función para leer 3 tanques de combustible y muestre el promedio\n",
    "def generarReporte(tanque1, tanque2, tanque3):\n",
    "    promedio = (tanque1 + tanque2 + tanque3) / 3\n",
    "    return f\"\"\"Reporte del Cohete:\n",
    "    Promedio de los tanques: {promedio}%\n",
    "    Tanque1: {tanque1}%\n",
    "    Tanque2: {tanque2}%\n",
    "    Tanque3: {tanque3}% \n",
    "    \"\"\""
   ]
  },
  {
   "cell_type": "code",
   "execution_count": 3,
   "metadata": {},
   "outputs": [
    {
     "name": "stdout",
     "output_type": "stream",
     "text": [
      "Reporte del Cohete:\n",
      "    Promedio de los tanques: 78.33333333333333%\n",
      "    Tanque1: 80%\n",
      "    Tanque2: 70%\n",
      "    Tanque3: 85% \n",
      "    \n"
     ]
    }
   ],
   "source": [
    "# Llamamos a la función que genera el reporte print(funcion(tanque1, tanque2, tanque3))\n",
    "print(generarReporte(80,70,85))"
   ]
  },
  {
   "cell_type": "code",
   "execution_count": 4,
   "metadata": {},
   "outputs": [
    {
     "data": {
      "text/plain": [
       "82.0"
      ]
     },
     "execution_count": 4,
     "metadata": {},
     "output_type": "execute_result"
    }
   ],
   "source": [
    "# Función promedio \n",
    "def promedio(valores):\n",
    "    total = sum(valores)\n",
    "    numElem = len(valores)\n",
    "    prom = total / numElem\n",
    "    return prom\n",
    "\n",
    "promedio([80, 85, 81]) "
   ]
  },
  {
   "cell_type": "code",
   "execution_count": 5,
   "metadata": {},
   "outputs": [
    {
     "name": "stdout",
     "output_type": "stream",
     "text": [
      "Reporte del Cohete:\n",
      "    Promedio de los tanques: 82.0%\n",
      "    Tanque1: 80%\n",
      "    Tanque2: 85%\n",
      "    Tanque3: 81% \n",
      "    \n"
     ]
    }
   ],
   "source": [
    "# Actualiza la función\n",
    "def generarReporte(tanque1, tanque2, tanque3):\n",
    "    return f\"\"\"Reporte del Cohete:\n",
    "    Promedio de los tanques: {promedio([tanque1, tanque2, tanque3])}%\n",
    "    Tanque1: {tanque1}%\n",
    "    Tanque2: {tanque2}%\n",
    "    Tanque3: {tanque3}% \n",
    "    \"\"\"\n",
    "    \n",
    "print(generarReporte(80, 85, 81))"
   ]
  },
  {
   "cell_type": "markdown",
   "metadata": {},
   "source": [
    "## Ejercicio 2: Trabaja con argumentos de palabras clave\n",
    "### Ejercicio: Trabajar con argumentos de plabras clave en funciones"
   ]
  },
  {
   "cell_type": "code",
   "execution_count": 6,
   "metadata": {},
   "outputs": [
    {
     "name": "stdout",
     "output_type": "stream",
     "text": [
      "\n",
      "    Misión de: Luna\n",
      "    Tiempo total de viaje: 65 \n",
      "    Total tanques: 500000 \n",
      "    \n"
     ]
    }
   ],
   "source": [
    "# Función con un informe preciso de la misión. Considera hora de prelanzamiento, tiempo de vuelo, destino, tanque externo y tanque interno\n",
    "def reporteMision(prelanzamiento, tiempoVuelo, destino, tanqueExterno, tanqueInterno):\n",
    "    return f\"\"\"\n",
    "    Misión de: {destino}\n",
    "    Tiempo total de viaje: {prelanzamiento + tiempoVuelo} \n",
    "    Total tanques: {tanqueExterno + tanqueInterno} \n",
    "    \"\"\"\n",
    "\n",
    "print(reporteMision(14, 51, \"Luna\", 200000, 300000))"
   ]
  },
  {
   "cell_type": "code",
   "execution_count": 8,
   "metadata": {},
   "outputs": [
    {
     "name": "stdout",
     "output_type": "stream",
     "text": [
      "\n",
      "    Misión de: Luna\n",
      "    Tiempo total de viaje: 76 \n",
      "    Total tanques: 500000\n",
      "    \n"
     ]
    }
   ],
   "source": [
    "# Escribe tu nueva función de reporte considerando lo anterior\n",
    "def reporteMision(destino, *minutos, **tanques):\n",
    "    return f\"\"\"\n",
    "    Misión de: {destino}\n",
    "    Tiempo total de viaje: {sum(minutos)} \n",
    "    Total tanques: {sum(tanques.values())}\n",
    "    \"\"\"\n",
    "\n",
    "print(reporteMision(\"Luna\", 10, 15, 51, interno=300000, externo=200000))"
   ]
  },
  {
   "cell_type": "code",
   "execution_count": 12,
   "metadata": {},
   "outputs": [
    {
     "name": "stdout",
     "output_type": "stream",
     "text": [
      "\n",
      "    Misión de: Luna\n",
      "    Tiempo total de viaje: 76 \n",
      "    Total tanques: 500000\n",
      "    interno tiene 300000 sobrantes \n",
      "externo tiene 200000 sobrantes \n",
      "\n"
     ]
    }
   ],
   "source": [
    "# Escribe tu nueva función\n",
    "def reporteMision(destino, *minutos, **tanques):\n",
    "    reporte = f\"\"\"\n",
    "    Misión de: {destino}\n",
    "    Tiempo total de viaje: {sum(minutos)} \n",
    "    Total tanques: {sum(tanques.values())}\n",
    "    \"\"\"\n",
    "    for nombreTaquen, gallones in tanques.items():\n",
    "        reporte += f\"{nombreTaquen} tiene {gallones} sobrantes \\n\"\n",
    "    return reporte\n",
    "\n",
    "print(reporteMision(\"Luna\", 10, 15, 51, interno=300000, externo=200000))"
   ]
  }
 ],
 "metadata": {
  "interpreter": {
   "hash": "a0b3210725285faecfe5d85b616cd80890a4e9eeb8bc5c16936fafcc20973414"
  },
  "kernelspec": {
   "display_name": "Python 3.9.5 32-bit",
   "language": "python",
   "name": "python3"
  },
  "language_info": {
   "codemirror_mode": {
    "name": "ipython",
    "version": 3
   },
   "file_extension": ".py",
   "mimetype": "text/x-python",
   "name": "python",
   "nbconvert_exporter": "python",
   "pygments_lexer": "ipython3",
   "version": "3.9.5"
  },
  "orig_nbformat": 4
 },
 "nbformat": 4,
 "nbformat_minor": 2
}
